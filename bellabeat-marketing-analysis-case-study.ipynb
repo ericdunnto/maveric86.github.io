{
 "cells": [
  {
   "cell_type": "code",
   "execution_count": 1,
   "id": "be97363a",
   "metadata": {
    "_execution_state": "idle",
    "_kg_hide-input": true,
    "_kg_hide-output": true,
    "_uuid": "051d70d956493feee0c6d64651c6a088724dca2a",
    "execution": {
     "iopub.execute_input": "2021-11-29T21:15:24.328256Z",
     "iopub.status.busy": "2021-11-29T21:15:24.325197Z",
     "iopub.status.idle": "2021-11-29T21:15:25.562589Z",
     "shell.execute_reply": "2021-11-29T21:15:25.561216Z"
    },
    "jupyter": {
     "source_hidden": true
    },
    "papermill": {
     "duration": 1.387321,
     "end_time": "2021-11-29T21:15:25.562776",
     "exception": false,
     "start_time": "2021-11-29T21:15:24.175455",
     "status": "completed"
    },
    "tags": []
   },
   "outputs": [
    {
     "name": "stderr",
     "output_type": "stream",
     "text": [
      "── \u001b[1mAttaching packages\u001b[22m ─────────────────────────────────────── tidyverse 1.3.1 ──\n",
      "\n",
      "\u001b[32m✔\u001b[39m \u001b[34mggplot2\u001b[39m 3.3.5     \u001b[32m✔\u001b[39m \u001b[34mpurrr  \u001b[39m 0.3.4\n",
      "\u001b[32m✔\u001b[39m \u001b[34mtibble \u001b[39m 3.1.5     \u001b[32m✔\u001b[39m \u001b[34mdplyr  \u001b[39m 1.0.7\n",
      "\u001b[32m✔\u001b[39m \u001b[34mtidyr  \u001b[39m 1.1.4     \u001b[32m✔\u001b[39m \u001b[34mstringr\u001b[39m 1.4.0\n",
      "\u001b[32m✔\u001b[39m \u001b[34mreadr  \u001b[39m 2.0.2     \u001b[32m✔\u001b[39m \u001b[34mforcats\u001b[39m 0.5.1\n",
      "\n",
      "── \u001b[1mConflicts\u001b[22m ────────────────────────────────────────── tidyverse_conflicts() ──\n",
      "\u001b[31m✖\u001b[39m \u001b[34mdplyr\u001b[39m::\u001b[32mfilter()\u001b[39m masks \u001b[34mstats\u001b[39m::filter()\n",
      "\u001b[31m✖\u001b[39m \u001b[34mdplyr\u001b[39m::\u001b[32mlag()\u001b[39m    masks \u001b[34mstats\u001b[39m::lag()\n",
      "\n",
      "\n",
      "Attaching package: ‘lubridate’\n",
      "\n",
      "\n",
      "The following objects are masked from ‘package:base’:\n",
      "\n",
      "    date, intersect, setdiff, union\n",
      "\n",
      "\n"
     ]
    }
   ],
   "source": [
    "library(tidyverse)\n",
    "library(lubridate)\n",
    "library(dplyr)\n",
    "library(ggplot2)\n",
    "library(tidyr)"
   ]
  },
  {
   "cell_type": "markdown",
   "id": "30e3d50e",
   "metadata": {
    "papermill": {
     "duration": 0.150221,
     "end_time": "2021-11-29T21:15:25.864148",
     "exception": false,
     "start_time": "2021-11-29T21:15:25.713927",
     "status": "completed"
    },
    "tags": []
   },
   "source": [
    "# Introduction  \n",
    "\n",
    "This is a Case Study for the company Bellabeats. Bellabeat makes stylish, wearable technology that inspires a healthy lifestyle by monitoring heart rates and activity of their users. In this case study I will try to help the marketing team at Bellabeat identify insights on when people get active, how and when people wear monitoring devices, and any interesting correlations. To do this, I will analyze an open data set from Fitbit's fitabase.\n",
    "\n",
    "From case study file: \n",
    "\n",
    "> Thirty eligible Fitbit users consented to the submission of personal tracker data, including minute-level output for physical activity, heart rate, and sleep monitoring. It includes information about daily activity, steps, and heart rate that can be used to explore users’ habits.\n",
    "\n",
    "## I will try to answer the questions: \n",
    "\n",
    "* When do wearable tech users get active? \n",
    "* When do wearable tech users wear their devices? \n",
    "* Are there any other interesting insights in the data? "
   ]
  },
  {
   "cell_type": "markdown",
   "id": "e8e0e08b",
   "metadata": {
    "papermill": {
     "duration": 0.149835,
     "end_time": "2021-11-29T21:15:26.164201",
     "exception": false,
     "start_time": "2021-11-29T21:15:26.014366",
     "status": "completed"
    },
    "tags": []
   },
   "source": [
    "# Preparing the Data "
   ]
  },
  {
   "cell_type": "markdown",
   "id": "380d22d1",
   "metadata": {
    "papermill": {
     "duration": 0.148216,
     "end_time": "2021-11-29T21:15:26.461002",
     "exception": false,
     "start_time": "2021-11-29T21:15:26.312786",
     "status": "completed"
    },
    "tags": []
   },
   "source": [
    "## Collecting\n",
    "I'm going to read the sleep, weight, hourly intensity, heart rate, and steps CSV's."
   ]
  },
  {
   "cell_type": "code",
   "execution_count": 2,
   "id": "a2cec91d",
   "metadata": {
    "_kg_hide-input": true,
    "execution": {
     "iopub.execute_input": "2021-11-29T21:15:26.794782Z",
     "iopub.status.busy": "2021-11-29T21:15:26.763282Z",
     "iopub.status.idle": "2021-11-29T21:15:33.975017Z",
     "shell.execute_reply": "2021-11-29T21:15:33.973687Z"
    },
    "jupyter": {
     "source_hidden": true
    },
    "papermill": {
     "duration": 7.364857,
     "end_time": "2021-11-29T21:15:33.975163",
     "exception": false,
     "start_time": "2021-11-29T21:15:26.610306",
     "status": "completed"
    },
    "tags": []
   },
   "outputs": [],
   "source": [
    "sleep_day <- read.csv(\"../input/fitbit/Fitabase Data 4.12.16-5.12.16/sleepDay_merged.csv\")\n",
    "weight_log <- read.csv(\"../input/fitbit/Fitabase Data 4.12.16-5.12.16/weightLogInfo_merged.csv\")\n",
    "hourly_intensity <- read.csv(\"../input/fitbit/Fitabase Data 4.12.16-5.12.16/hourlyIntensities_merged.csv\")\n",
    "heart_rate <- read.csv(\"../input/fitbit/Fitabase Data 4.12.16-5.12.16/heartrate_seconds_merged.csv\")\n",
    "hourly_steps <- read.csv(\"../input/fitbit/Fitabase Data 4.12.16-5.12.16/hourlySteps_merged.csv\")"
   ]
  },
  {
   "cell_type": "markdown",
   "id": "172df54a",
   "metadata": {
    "papermill": {
     "duration": 0.147542,
     "end_time": "2021-11-29T21:15:34.271125",
     "exception": false,
     "start_time": "2021-11-29T21:15:34.123583",
     "status": "completed"
    },
    "tags": []
   },
   "source": [
    "## Cleaning & Sorting \n",
    "\n",
    "Next, I'm going to mutate and select the data to make it easier to work with then show the structure of the tables "
   ]
  },
  {
   "cell_type": "code",
   "execution_count": 3,
   "id": "1ce62876",
   "metadata": {
    "_kg_hide-input": true,
    "execution": {
     "iopub.execute_input": "2021-11-29T21:15:34.576268Z",
     "iopub.status.busy": "2021-11-29T21:15:34.574637Z",
     "iopub.status.idle": "2021-11-29T21:15:36.696926Z",
     "shell.execute_reply": "2021-11-29T21:15:36.695408Z"
    },
    "jupyter": {
     "source_hidden": true
    },
    "papermill": {
     "duration": 2.27711,
     "end_time": "2021-11-29T21:15:36.697081",
     "exception": false,
     "start_time": "2021-11-29T21:15:34.419971",
     "status": "completed"
    },
    "tags": []
   },
   "outputs": [],
   "source": [
    "#sleep data \n",
    "sleep <- \n",
    "    sleep_day %>% \n",
    "        mutate(id=as.character(Id)) %>%\n",
    "        mutate(date=mdy_hms(SleepDay)) %>%\n",
    "        mutate(sleep=TotalMinutesAsleep) %>%\n",
    "        mutate(bed=TotalTimeInBed) %>%\n",
    "        select(\n",
    "        id,date,sleep,bed\n",
    "        )\n",
    "\n",
    "#intensity data \n",
    "intensity <- \n",
    "    hourly_intensity %>% \n",
    "        mutate(id=as.character(Id)) %>%\n",
    "        mutate(date=mdy_hms(ActivityHour)) %>%\n",
    "        mutate(total_intensity=TotalIntensity) %>%\n",
    "        mutate(average_intensity=AverageIntensity) %>%\n",
    "        select(\n",
    "        id,date,total_intensity,average_intensity\n",
    "        )\n",
    "\n",
    "#heart data \n",
    "heart <- \n",
    "    heart_rate %>% \n",
    "        mutate(id=as.character(Id)) %>%\n",
    "        mutate(date=mdy_hms(Time)) %>%\n",
    "        mutate(rate=Value) %>%\n",
    "        select(\n",
    "        id,date,rate\n",
    "        )\n",
    "\n",
    "#steps data \n",
    "steps <- \n",
    "    hourly_steps %>% \n",
    "        mutate(id=as.character(Id)) %>%\n",
    "        mutate(date=mdy_hms(ActivityHour)) %>%\n",
    "        mutate(steps=StepTotal) %>%\n",
    "        select(\n",
    "        id,date,steps\n",
    "\n",
    "        )"
   ]
  },
  {
   "cell_type": "code",
   "execution_count": 4,
   "id": "91772701",
   "metadata": {
    "execution": {
     "iopub.execute_input": "2021-11-29T21:15:37.002078Z",
     "iopub.status.busy": "2021-11-29T21:15:37.000623Z",
     "iopub.status.idle": "2021-11-29T21:15:37.028536Z",
     "shell.execute_reply": "2021-11-29T21:15:37.027625Z"
    },
    "papermill": {
     "duration": 0.182416,
     "end_time": "2021-11-29T21:15:37.028677",
     "exception": false,
     "start_time": "2021-11-29T21:15:36.846261",
     "status": "completed"
    },
    "tags": []
   },
   "outputs": [
    {
     "name": "stdout",
     "output_type": "stream",
     "text": [
      "'data.frame':\t22099 obs. of  3 variables:\n",
      " $ id   : chr  \"1503960366\" \"1503960366\" \"1503960366\" \"1503960366\" ...\n",
      " $ date : POSIXct, format: \"2016-04-12 00:00:00\" \"2016-04-12 01:00:00\" ...\n",
      " $ steps: int  373 160 151 0 0 0 0 0 250 1864 ...\n"
     ]
    }
   ],
   "source": [
    "# structure of steps table\n",
    "str(steps)"
   ]
  },
  {
   "cell_type": "code",
   "execution_count": 5,
   "id": "92f735f8",
   "metadata": {
    "execution": {
     "iopub.execute_input": "2021-11-29T21:15:37.358804Z",
     "iopub.status.busy": "2021-11-29T21:15:37.356179Z",
     "iopub.status.idle": "2021-11-29T21:15:37.389125Z",
     "shell.execute_reply": "2021-11-29T21:15:37.387063Z"
    },
    "papermill": {
     "duration": 0.205023,
     "end_time": "2021-11-29T21:15:37.389287",
     "exception": false,
     "start_time": "2021-11-29T21:15:37.184264",
     "status": "completed"
    },
    "tags": []
   },
   "outputs": [
    {
     "name": "stdout",
     "output_type": "stream",
     "text": [
      "'data.frame':\t2483658 obs. of  3 variables:\n",
      " $ id  : chr  \"2022484408\" \"2022484408\" \"2022484408\" \"2022484408\" ...\n",
      " $ date: POSIXct, format: \"2016-04-12 07:21:00\" \"2016-04-12 07:21:05\" ...\n",
      " $ rate: int  97 102 105 103 101 95 91 93 94 93 ...\n"
     ]
    }
   ],
   "source": [
    "# structure of heart rate table\n",
    "str(heart)"
   ]
  },
  {
   "cell_type": "code",
   "execution_count": 6,
   "id": "3238f22e",
   "metadata": {
    "execution": {
     "iopub.execute_input": "2021-11-29T21:15:37.710890Z",
     "iopub.status.busy": "2021-11-29T21:15:37.707146Z",
     "iopub.status.idle": "2021-11-29T21:15:37.733365Z",
     "shell.execute_reply": "2021-11-29T21:15:37.731792Z"
    },
    "papermill": {
     "duration": 0.184095,
     "end_time": "2021-11-29T21:15:37.733535",
     "exception": false,
     "start_time": "2021-11-29T21:15:37.549440",
     "status": "completed"
    },
    "tags": []
   },
   "outputs": [
    {
     "name": "stdout",
     "output_type": "stream",
     "text": [
      "'data.frame':\t22099 obs. of  4 variables:\n",
      " $ id               : chr  \"1503960366\" \"1503960366\" \"1503960366\" \"1503960366\" ...\n",
      " $ date             : POSIXct, format: \"2016-04-12 00:00:00\" \"2016-04-12 01:00:00\" ...\n",
      " $ total_intensity  : int  20 8 7 0 0 0 0 0 13 30 ...\n",
      " $ average_intensity: num  0.333 0.133 0.117 0 0 ...\n"
     ]
    }
   ],
   "source": [
    "# structure of intensity table\n",
    "str(intensity)"
   ]
  },
  {
   "cell_type": "markdown",
   "id": "5832d7be",
   "metadata": {
    "papermill": {
     "duration": 0.154703,
     "end_time": "2021-11-29T21:15:38.042319",
     "exception": false,
     "start_time": "2021-11-29T21:15:37.887616",
     "status": "completed"
    },
    "tags": []
   },
   "source": [
    "Now, we can start exploring the data. I initia "
   ]
  },
  {
   "cell_type": "markdown",
   "id": "ae6593db",
   "metadata": {
    "papermill": {
     "duration": 0.151753,
     "end_time": "2021-11-29T21:15:38.345390",
     "exception": false,
     "start_time": "2021-11-29T21:15:38.193637",
     "status": "completed"
    },
    "tags": []
   },
   "source": [
    "# Analysis \n",
    "\n",
    "# Identify High Activity Times\n",
    "\n",
    "To begin exploring the data, I'll count the number of participants in each table.  "
   ]
  },
  {
   "cell_type": "code",
   "execution_count": 7,
   "id": "a42f97e1",
   "metadata": {
    "execution": {
     "iopub.execute_input": "2021-11-29T21:15:38.653972Z",
     "iopub.status.busy": "2021-11-29T21:15:38.652855Z",
     "iopub.status.idle": "2021-11-29T21:15:42.423334Z",
     "shell.execute_reply": "2021-11-29T21:15:42.421685Z"
    },
    "papermill": {
     "duration": 3.926591,
     "end_time": "2021-11-29T21:15:42.423497",
     "exception": false,
     "start_time": "2021-11-29T21:15:38.496906",
     "status": "completed"
    },
    "tags": []
   },
   "outputs": [
    {
     "data": {
      "text/html": [
       "33"
      ],
      "text/latex": [
       "33"
      ],
      "text/markdown": [
       "33"
      ],
      "text/plain": [
       "[1] 33"
      ]
     },
     "metadata": {},
     "output_type": "display_data"
    },
    {
     "data": {
      "text/html": [
       "33"
      ],
      "text/latex": [
       "33"
      ],
      "text/markdown": [
       "33"
      ],
      "text/plain": [
       "[1] 33"
      ]
     },
     "metadata": {},
     "output_type": "display_data"
    },
    {
     "data": {
      "text/html": [
       "14"
      ],
      "text/latex": [
       "14"
      ],
      "text/markdown": [
       "14"
      ],
      "text/plain": [
       "[1] 14"
      ]
     },
     "metadata": {},
     "output_type": "display_data"
    }
   ],
   "source": [
    "# count of participants in each table \n",
    "n_distinct(steps$id)\n",
    "n_distinct(intensity$id)\n",
    "n_distinct(heart$id)"
   ]
  },
  {
   "cell_type": "markdown",
   "id": "7719645a",
   "metadata": {
    "papermill": {
     "duration": 0.159507,
     "end_time": "2021-11-29T21:15:42.744663",
     "exception": false,
     "start_time": "2021-11-29T21:15:42.585156",
     "status": "completed"
    },
    "tags": []
   },
   "source": [
    "The steps and intensity tables have 33 unique ID's but heart only as 14. \n",
    "\n",
    "Now, I'll summarize each table."
   ]
  },
  {
   "cell_type": "code",
   "execution_count": 8,
   "id": "d7bd111c",
   "metadata": {
    "execution": {
     "iopub.execute_input": "2021-11-29T21:15:43.071367Z",
     "iopub.status.busy": "2021-11-29T21:15:43.069796Z",
     "iopub.status.idle": "2021-11-29T21:15:43.091952Z",
     "shell.execute_reply": "2021-11-29T21:15:43.090356Z"
    },
    "papermill": {
     "duration": 0.186957,
     "end_time": "2021-11-29T21:15:43.092090",
     "exception": false,
     "start_time": "2021-11-29T21:15:42.905133",
     "status": "completed"
    },
    "tags": []
   },
   "outputs": [
    {
     "data": {
      "text/plain": [
       "      id                 date                         steps        \n",
       " Length:22099       Min.   :2016-04-12 00:00:00   Min.   :    0.0  \n",
       " Class :character   1st Qu.:2016-04-19 01:00:00   1st Qu.:    0.0  \n",
       " Mode  :character   Median :2016-04-26 06:00:00   Median :   40.0  \n",
       "                    Mean   :2016-04-26 11:46:42   Mean   :  320.2  \n",
       "                    3rd Qu.:2016-05-03 19:00:00   3rd Qu.:  357.0  \n",
       "                    Max.   :2016-05-12 15:00:00   Max.   :10554.0  "
      ]
     },
     "metadata": {},
     "output_type": "display_data"
    }
   ],
   "source": [
    "# summary of steps\n",
    "    summary(steps)"
   ]
  },
  {
   "cell_type": "code",
   "execution_count": 9,
   "id": "090f1fe6",
   "metadata": {
    "execution": {
     "iopub.execute_input": "2021-11-29T21:15:43.449256Z",
     "iopub.status.busy": "2021-11-29T21:15:43.447144Z",
     "iopub.status.idle": "2021-11-29T21:15:44.021209Z",
     "shell.execute_reply": "2021-11-29T21:15:44.019589Z"
    },
    "papermill": {
     "duration": 0.767399,
     "end_time": "2021-11-29T21:15:44.021367",
     "exception": false,
     "start_time": "2021-11-29T21:15:43.253968",
     "status": "completed"
    },
    "tags": []
   },
   "outputs": [
    {
     "data": {
      "text/plain": [
       "      id                 date                          rate       \n",
       " Length:2483658     Min.   :2016-04-12 00:00:00   Min.   : 36.00  \n",
       " Class :character   1st Qu.:2016-04-19 06:18:10   1st Qu.: 63.00  \n",
       " Mode  :character   Median :2016-04-26 20:28:50   Median : 73.00  \n",
       "                    Mean   :2016-04-26 19:43:52   Mean   : 77.33  \n",
       "                    3rd Qu.:2016-05-04 08:00:20   3rd Qu.: 88.00  \n",
       "                    Max.   :2016-05-12 16:20:00   Max.   :203.00  "
      ]
     },
     "metadata": {},
     "output_type": "display_data"
    }
   ],
   "source": [
    "# summary of heart\n",
    "    summary(heart)"
   ]
  },
  {
   "cell_type": "code",
   "execution_count": 10,
   "id": "b388dfe4",
   "metadata": {
    "execution": {
     "iopub.execute_input": "2021-11-29T21:15:44.352547Z",
     "iopub.status.busy": "2021-11-29T21:15:44.351021Z",
     "iopub.status.idle": "2021-11-29T21:15:44.372770Z",
     "shell.execute_reply": "2021-11-29T21:15:44.371149Z"
    },
    "papermill": {
     "duration": 0.188696,
     "end_time": "2021-11-29T21:15:44.372935",
     "exception": false,
     "start_time": "2021-11-29T21:15:44.184239",
     "status": "completed"
    },
    "tags": []
   },
   "outputs": [
    {
     "data": {
      "text/plain": [
       "      id                 date                     total_intensity \n",
       " Length:22099       Min.   :2016-04-12 00:00:00   Min.   :  0.00  \n",
       " Class :character   1st Qu.:2016-04-19 01:00:00   1st Qu.:  0.00  \n",
       " Mode  :character   Median :2016-04-26 06:00:00   Median :  3.00  \n",
       "                    Mean   :2016-04-26 11:46:42   Mean   : 12.04  \n",
       "                    3rd Qu.:2016-05-03 19:00:00   3rd Qu.: 16.00  \n",
       "                    Max.   :2016-05-12 15:00:00   Max.   :180.00  \n",
       " average_intensity\n",
       " Min.   :0.0000   \n",
       " 1st Qu.:0.0000   \n",
       " Median :0.0500   \n",
       " Mean   :0.2006   \n",
       " 3rd Qu.:0.2667   \n",
       " Max.   :3.0000   "
      ]
     },
     "metadata": {},
     "output_type": "display_data"
    }
   ],
   "source": [
    "# summary of intensity\n",
    "    summary(intensity)"
   ]
  },
  {
   "cell_type": "markdown",
   "id": "545bc5b2",
   "metadata": {
    "papermill": {
     "duration": 0.163967,
     "end_time": "2021-11-29T21:15:44.702896",
     "exception": false,
     "start_time": "2021-11-29T21:15:44.538929",
     "status": "completed"
    },
    "tags": []
   },
   "source": [
    "# Hourly Intensity, Steps, & Heart Rate \n",
    "\n",
    "I'm going to find the average number of steps, heart rate, and intensity per hour. Then I'll merge the data. Then visualize the number of steps as column hieght and average intensity as brightness of color to identify highly active hours in the day. "
   ]
  },
  {
   "cell_type": "code",
   "execution_count": 11,
   "id": "61ccd608",
   "metadata": {
    "_kg_hide-input": true,
    "execution": {
     "iopub.execute_input": "2021-11-29T21:15:45.040415Z",
     "iopub.status.busy": "2021-11-29T21:15:45.038573Z",
     "iopub.status.idle": "2021-11-29T21:15:45.641086Z",
     "shell.execute_reply": "2021-11-29T21:15:45.639632Z"
    },
    "jupyter": {
     "source_hidden": true
    },
    "papermill": {
     "duration": 0.77198,
     "end_time": "2021-11-29T21:15:45.641232",
     "exception": false,
     "start_time": "2021-11-29T21:15:44.869252",
     "status": "completed"
    },
    "tags": []
   },
   "outputs": [],
   "source": [
    "# summarizing for hourly analysis \n",
    "\n",
    "# heart \n",
    "hourly_heart <- heart %>%\n",
    "    mutate(hour = hour(date)) %>%\n",
    "    group_by(id, hour) %>%\n",
    "    summarize(\n",
    "    heart_rate = mean(rate),\n",
    "    .groups = 'drop'\n",
    "    )\n",
    "\n",
    "# steps\n",
    "hourly_steps <- steps %>%\n",
    "    mutate(hour = hour(date)) %>%\n",
    "    group_by(id, hour) %>%\n",
    "    summarize(\n",
    "    steps = mean(steps),\n",
    "    .groups = 'drop'\n",
    "    )\n",
    "\n",
    "# intensity\n",
    "hourly_intensity <- intensity %>%\n",
    "    mutate(hour = hour(date)) %>%\n",
    "    group_by(id, hour) %>%\n",
    "    summarize(\n",
    "    intensity = mean(total_intensity),\n",
    "    .groups = 'drop'\n",
    "    )\n",
    "\n",
    "# merging the data \n",
    "\n",
    "hourly_merge_1 <- merge(hourly_heart,hourly_steps)\n",
    "hourly_data <- merge(hourly_merge_1,hourly_intensity)\n",
    "\n",
    "# summarising the merged data - finding averages by hour\n",
    "\n",
    "hourly_mean <- hourly_data %>%\n",
    "    group_by(hour) %>% \n",
    "    summarize(\n",
    "    steps = mean(steps),\n",
    "    int = mean(intensity)\n",
    "    )\n",
    "\n",
    "hourly_steps_intensity <- arrange(hourly_data,-intensity)\n",
    "\n",
    "# arranging highest intensity hours\n",
    "highest_intensity_hours <- arrange(hourly_mean,-int)\n",
    "\n",
    "# plotting the data \n",
    "p_hourly_steps_intensity <- ggplot(hourly_mean, aes(x=hour,fill=int)) +\n",
    "    geom_col(aes(y=steps)) +\n",
    "    #facet_wrap(~id) +\n",
    "    theme_classic()"
   ]
  },
  {
   "cell_type": "code",
   "execution_count": 12,
   "id": "d38244b9",
   "metadata": {
    "execution": {
     "iopub.execute_input": "2021-11-29T21:15:45.978302Z",
     "iopub.status.busy": "2021-11-29T21:15:45.976676Z",
     "iopub.status.idle": "2021-11-29T21:15:46.002315Z",
     "shell.execute_reply": "2021-11-29T21:15:46.000794Z"
    },
    "papermill": {
     "duration": 0.196363,
     "end_time": "2021-11-29T21:15:46.002458",
     "exception": false,
     "start_time": "2021-11-29T21:15:45.806095",
     "status": "completed"
    },
    "tags": []
   },
   "outputs": [
    {
     "data": {
      "text/html": [
       "<table class=\"dataframe\">\n",
       "<caption>A tibble: 6 × 3</caption>\n",
       "<thead>\n",
       "\t<tr><th scope=col>hour</th><th scope=col>steps</th><th scope=col>int</th></tr>\n",
       "\t<tr><th scope=col>&lt;int&gt;</th><th scope=col>&lt;dbl&gt;</th><th scope=col>&lt;dbl&gt;</th></tr>\n",
       "</thead>\n",
       "<tbody>\n",
       "\t<tr><td>18</td><td>660.1724</td><td>24.27971</td></tr>\n",
       "\t<tr><td>17</td><td>608.6461</td><td>22.76260</td></tr>\n",
       "\t<tr><td>12</td><td>603.0484</td><td>21.60360</td></tr>\n",
       "\t<tr><td>10</td><td>547.3905</td><td>21.23662</td></tr>\n",
       "\t<tr><td>16</td><td>603.6913</td><td>20.84055</td></tr>\n",
       "\t<tr><td>19</td><td>497.7112</td><td>20.59730</td></tr>\n",
       "</tbody>\n",
       "</table>\n"
      ],
      "text/latex": [
       "A tibble: 6 × 3\n",
       "\\begin{tabular}{lll}\n",
       " hour & steps & int\\\\\n",
       " <int> & <dbl> & <dbl>\\\\\n",
       "\\hline\n",
       "\t 18 & 660.1724 & 24.27971\\\\\n",
       "\t 17 & 608.6461 & 22.76260\\\\\n",
       "\t 12 & 603.0484 & 21.60360\\\\\n",
       "\t 10 & 547.3905 & 21.23662\\\\\n",
       "\t 16 & 603.6913 & 20.84055\\\\\n",
       "\t 19 & 497.7112 & 20.59730\\\\\n",
       "\\end{tabular}\n"
      ],
      "text/markdown": [
       "\n",
       "A tibble: 6 × 3\n",
       "\n",
       "| hour &lt;int&gt; | steps &lt;dbl&gt; | int &lt;dbl&gt; |\n",
       "|---|---|---|\n",
       "| 18 | 660.1724 | 24.27971 |\n",
       "| 17 | 608.6461 | 22.76260 |\n",
       "| 12 | 603.0484 | 21.60360 |\n",
       "| 10 | 547.3905 | 21.23662 |\n",
       "| 16 | 603.6913 | 20.84055 |\n",
       "| 19 | 497.7112 | 20.59730 |\n",
       "\n"
      ],
      "text/plain": [
       "  hour steps    int     \n",
       "1 18   660.1724 24.27971\n",
       "2 17   608.6461 22.76260\n",
       "3 12   603.0484 21.60360\n",
       "4 10   547.3905 21.23662\n",
       "5 16   603.6913 20.84055\n",
       "6 19   497.7112 20.59730"
      ]
     },
     "metadata": {},
     "output_type": "display_data"
    }
   ],
   "source": [
    "head(highest_intensity_hours)"
   ]
  },
  {
   "cell_type": "code",
   "execution_count": 13,
   "id": "a0a927cc",
   "metadata": {
    "execution": {
     "iopub.execute_input": "2021-11-29T21:15:46.343414Z",
     "iopub.status.busy": "2021-11-29T21:15:46.341697Z",
     "iopub.status.idle": "2021-11-29T21:15:46.799469Z",
     "shell.execute_reply": "2021-11-29T21:15:46.798090Z"
    },
    "papermill": {
     "duration": 0.629112,
     "end_time": "2021-11-29T21:15:46.799605",
     "exception": false,
     "start_time": "2021-11-29T21:15:46.170493",
     "status": "completed"
    },
    "tags": []
   },
   "outputs": [
    {
     "data": {
      "image/png": "[encoded data removed]"
     },
     "metadata": {
      "image/png": {
       "height": 420,
       "width": 420
      }
     },
     "output_type": "display_data"
    }
   ],
   "source": [
    "p_hourly_steps_intensity"
   ]
  },
  {
   "cell_type": "markdown",
   "id": "89afe606",
   "metadata": {
    "papermill": {
     "duration": 0.171268,
     "end_time": "2021-11-29T21:15:47.142454",
     "exception": false,
     "start_time": "2021-11-29T21:15:46.971186",
     "status": "completed"
    },
    "tags": []
   },
   "source": [
    "In the chart above, the height of each column represents steps and the brightness of the color represents the intensity of the activity. Large bright spikes are high intenisty hours with many steps, likely runs or workouts. You can see that there are three significant spikes through the day at 10am, noon, and 6pm. "
   ]
  },
  {
   "cell_type": "markdown",
   "id": "b6b8eeb9",
   "metadata": {
    "papermill": {
     "duration": 0.170037,
     "end_time": "2021-11-29T21:15:47.481900",
     "exception": false,
     "start_time": "2021-11-29T21:15:47.311863",
     "status": "completed"
    },
    "tags": []
   },
   "source": [
    "# Daily Intensity, Steps, & Heart Rate \n",
    "\n",
    "I'll do the same by day of week. First summarizing the data by day and finding the mean heart rate, steps, and intensity. Again, I'll merge the data and visualise the results. "
   ]
  },
  {
   "cell_type": "code",
   "execution_count": 14,
   "id": "4b30df06",
   "metadata": {
    "_kg_hide-input": true,
    "execution": {
     "iopub.execute_input": "2021-11-29T21:15:47.843118Z",
     "iopub.status.busy": "2021-11-29T21:15:47.841408Z",
     "iopub.status.idle": "2021-11-29T21:15:48.813766Z",
     "shell.execute_reply": "2021-11-29T21:15:48.812456Z"
    },
    "jupyter": {
     "source_hidden": true
    },
    "papermill": {
     "duration": 1.162065,
     "end_time": "2021-11-29T21:15:48.813946",
     "exception": false,
     "start_time": "2021-11-29T21:15:47.651881",
     "status": "completed"
    },
    "tags": []
   },
   "outputs": [],
   "source": [
    "# summarizing for day of week analysis \n",
    "\n",
    "# heart \n",
    "wday_heart <- heart %>%\n",
    "    mutate(wday = wday(date)) %>%\n",
    "    group_by(id, wday) %>%\n",
    "    summarize(\n",
    "    heart_rate = mean(rate),\n",
    "    .groups = 'drop'\n",
    "    )\n",
    "\n",
    "# steps\n",
    "wday_steps <- steps %>%\n",
    "    mutate(wday = wday(date)) %>%\n",
    "    group_by(id, wday) %>%\n",
    "    summarize(\n",
    "    steps = mean(steps),\n",
    "    .groups = 'drop'\n",
    "    )\n",
    "\n",
    "# intensity\n",
    "wday_intensity <- intensity %>%\n",
    "    mutate(wday = wday(date)) %>%\n",
    "    group_by(id, wday) %>%\n",
    "    summarize(\n",
    "    intensity = mean(total_intensity),\n",
    "    .groups = 'drop'\n",
    "    )\n",
    "\n",
    "# merging the data \n",
    "\n",
    "wday_merge_1 <- merge(wday_heart,wday_steps)\n",
    "wday_data <- merge(wday_merge_1,wday_intensity)\n",
    "\n",
    "# summarising the merged data - finding averages by hour\n",
    "\n",
    "wday_mean <- wday_data %>%\n",
    "    group_by(wday) %>% \n",
    "    summarize(\n",
    "    steps = mean(steps),\n",
    "    int = mean(intensity)\n",
    "    )\n",
    "\n",
    "# plotting the data \n",
    "\n",
    "p_daily_steps_intensity <- ggplot(wday_mean, aes(x=wday,fill=int)) +\n",
    "    geom_col(aes(y=steps)) +\n",
    "    theme_classic()\n",
    "\n",
    "# arranging highest intensity hours\n",
    "highest_intensity_wday <- arrange(wday_mean,-int)"
   ]
  },
  {
   "cell_type": "code",
   "execution_count": 15,
   "id": "18477a64",
   "metadata": {
    "execution": {
     "iopub.execute_input": "2021-11-29T21:15:49.164685Z",
     "iopub.status.busy": "2021-11-29T21:15:49.163255Z",
     "iopub.status.idle": "2021-11-29T21:15:49.185469Z",
     "shell.execute_reply": "2021-11-29T21:15:49.184058Z"
    },
    "papermill": {
     "duration": 0.200109,
     "end_time": "2021-11-29T21:15:49.185615",
     "exception": false,
     "start_time": "2021-11-29T21:15:48.985506",
     "status": "completed"
    },
    "tags": []
   },
   "outputs": [
    {
     "data": {
      "text/html": [
       "<table class=\"dataframe\">\n",
       "<caption>A tibble: 7 × 3</caption>\n",
       "<thead>\n",
       "\t<tr><th scope=col>wday</th><th scope=col>steps</th><th scope=col>int</th></tr>\n",
       "\t<tr><th scope=col>&lt;dbl&gt;</th><th scope=col>&lt;dbl&gt;</th><th scope=col>&lt;dbl&gt;</th></tr>\n",
       "</thead>\n",
       "<tbody>\n",
       "\t<tr><td>7</td><td>382.4120</td><td>14.56760</td></tr>\n",
       "\t<tr><td>6</td><td>356.1023</td><td>13.63969</td></tr>\n",
       "\t<tr><td>3</td><td>353.5456</td><td>13.28413</td></tr>\n",
       "\t<tr><td>5</td><td>359.9695</td><td>13.14322</td></tr>\n",
       "\t<tr><td>2</td><td>340.7790</td><td>12.63999</td></tr>\n",
       "\t<tr><td>4</td><td>339.7196</td><td>12.61271</td></tr>\n",
       "\t<tr><td>1</td><td>276.0201</td><td>11.39335</td></tr>\n",
       "</tbody>\n",
       "</table>\n"
      ],
      "text/latex": [
       "A tibble: 7 × 3\n",
       "\\begin{tabular}{lll}\n",
       " wday & steps & int\\\\\n",
       " <dbl> & <dbl> & <dbl>\\\\\n",
       "\\hline\n",
       "\t 7 & 382.4120 & 14.56760\\\\\n",
       "\t 6 & 356.1023 & 13.63969\\\\\n",
       "\t 3 & 353.5456 & 13.28413\\\\\n",
       "\t 5 & 359.9695 & 13.14322\\\\\n",
       "\t 2 & 340.7790 & 12.63999\\\\\n",
       "\t 4 & 339.7196 & 12.61271\\\\\n",
       "\t 1 & 276.0201 & 11.39335\\\\\n",
       "\\end{tabular}\n"
      ],
      "text/markdown": [
       "\n",
       "A tibble: 7 × 3\n",
       "\n",
       "| wday &lt;dbl&gt; | steps &lt;dbl&gt; | int &lt;dbl&gt; |\n",
       "|---|---|---|\n",
       "| 7 | 382.4120 | 14.56760 |\n",
       "| 6 | 356.1023 | 13.63969 |\n",
       "| 3 | 353.5456 | 13.28413 |\n",
       "| 5 | 359.9695 | 13.14322 |\n",
       "| 2 | 340.7790 | 12.63999 |\n",
       "| 4 | 339.7196 | 12.61271 |\n",
       "| 1 | 276.0201 | 11.39335 |\n",
       "\n"
      ],
      "text/plain": [
       "  wday steps    int     \n",
       "1 7    382.4120 14.56760\n",
       "2 6    356.1023 13.63969\n",
       "3 3    353.5456 13.28413\n",
       "4 5    359.9695 13.14322\n",
       "5 2    340.7790 12.63999\n",
       "6 4    339.7196 12.61271\n",
       "7 1    276.0201 11.39335"
      ]
     },
     "metadata": {},
     "output_type": "display_data"
    }
   ],
   "source": [
    "highest_intensity_wday"
   ]
  },
  {
   "cell_type": "code",
   "execution_count": 16,
   "id": "4bdf3199",
   "metadata": {
    "execution": {
     "iopub.execute_input": "2021-11-29T21:15:49.538624Z",
     "iopub.status.busy": "2021-11-29T21:15:49.537143Z",
     "iopub.status.idle": "2021-11-29T21:15:49.893918Z",
     "shell.execute_reply": "2021-11-29T21:15:49.892667Z"
    },
    "papermill": {
     "duration": 0.534087,
     "end_time": "2021-11-29T21:15:49.894053",
     "exception": false,
     "start_time": "2021-11-29T21:15:49.359966",
     "status": "completed"
    },
    "tags": []
   },
   "outputs": [
    {
     "data": {
      "image/png": "[encoded data removed]"
     },
     "metadata": {
      "image/png": {
       "height": 420,
       "width": 420
      }
     },
     "output_type": "display_data"
    }
   ],
   "source": [
    "p_daily_steps_intensity"
   ]
  },
  {
   "cell_type": "markdown",
   "id": "29a8f8e8",
   "metadata": {
    "papermill": {
     "duration": 0.177131,
     "end_time": "2021-11-29T21:15:50.247887",
     "exception": false,
     "start_time": "2021-11-29T21:15:50.070756",
     "status": "completed"
    },
    "tags": []
   },
   "source": [
    "Once again, we can see that the participants have specific days of the week with more steps and more intensity. Sunday stands out as a high intensity activity day. "
   ]
  },
  {
   "cell_type": "markdown",
   "id": "a4b4fac6",
   "metadata": {
    "papermill": {
     "duration": 0.1751,
     "end_time": "2021-11-29T21:15:50.605232",
     "exception": false,
     "start_time": "2021-11-29T21:15:50.430132",
     "status": "completed"
    },
    "tags": []
   },
   "source": [
    "## Hour of Week Intensity, Steps, & Heart Rate \n",
    "\n",
    "To find highly active hours of days of the week, I'll seperate the date column to days and hours, and again summarise the data so show us the mean of steps and intensity of the hour of each day of the week. Then I'll merge the data. To visualize this, I'll list the top 5 higherst intensity hours. I will also plot the steps as columns, intensity as color, through the hours in a day and facet that by day of week."
   ]
  },
  {
   "cell_type": "code",
   "execution_count": 17,
   "id": "2fd0f4bb",
   "metadata": {
    "_kg_hide-input": true,
    "execution": {
     "iopub.execute_input": "2021-11-29T21:15:50.963226Z",
     "iopub.status.busy": "2021-11-29T21:15:50.961507Z",
     "iopub.status.idle": "2021-11-29T21:15:52.272532Z",
     "shell.execute_reply": "2021-11-29T21:15:52.271266Z"
    },
    "papermill": {
     "duration": 1.492126,
     "end_time": "2021-11-29T21:15:52.272686",
     "exception": false,
     "start_time": "2021-11-29T21:15:50.780560",
     "status": "completed"
    },
    "tags": []
   },
   "outputs": [
    {
     "name": "stderr",
     "output_type": "stream",
     "text": [
      "`summarise()` has grouped output by 'wday'. You can override using the `.groups` argument.\n",
      "\n",
      "`summarise()` has grouped output by 'wday'. You can override using the `.groups` argument.\n",
      "\n",
      "`summarise()` has grouped output by 'wday'. You can override using the `.groups` argument.\n",
      "\n"
     ]
    }
   ],
   "source": [
    "# summarizing for day of week and hour analysis \n",
    "\n",
    "# steps\n",
    "wday_h_steps <- steps %>%\n",
    "    separate(date, c(\"date\", \"time\"), sep=\" \") %>%\n",
    "    mutate(wday = wday(date)) %>%\n",
    "    group_by(wday, time) %>%\n",
    "    summarize(steps = mean(steps))\n",
    "    .groups = \"drop\"\n",
    "\n",
    "# steps\n",
    "wday_h_intensity <- intensity %>%\n",
    "    separate(date, c(\"date\", \"time\"), sep=\" \") %>%\n",
    "    mutate(wday = wday(date)) %>%\n",
    "    group_by(wday, time) %>%\n",
    "    summarize(intensity = mean(total_intensity))\n",
    "    .groups = \"drop\"\n",
    "\n",
    "# merging day and time steps and intensity data \n",
    "wday_h_data <- merge(wday_h_steps, wday_h_intensity)\n",
    "\n",
    "# summarizing and visualizing our key finding regarding hour of day of week steps and intensity \n",
    "\n",
    "intensity_peaks <- wday_h_data %>%\n",
    "    group_by(wday,time) %>%\n",
    "    summarize(max_intensity = max(intensity)) %>%\n",
    "    arrange(-max_intensity)\n",
    "\n",
    "# plot the data \n",
    "\n",
    "p_wday_h_steps_intensity <- ggplot(wday_h_data) +\n",
    "    geom_col(aes(x=time, y=steps, fill=intensity)) +\n",
    "    facet_wrap(~wday) +\n",
    "\n",
    "    theme_classic() +\n",
    "    theme(axis.text.x = element_text(size = 4, angle=90)) +\n",
    "\n",
    "    annotate(\"text\", x = \"12:00:00\", y = 800, label = \"Noon\")+\n",
    "    annotate(\"text\", x = \"19:00:00\", y = 800, label = \"7pm\")+\n",
    "    annotate(\"text\", x = \"05:00:00\", y = 800, label = \"5am\")+\n",
    "\n",
    "    labs(\n",
    "        title=\"High Intensity Activity\",\n",
    "        subtitle=\"Hourly Steps by Day of Week (1 = Monday etc.)\"\n",
    "        )"
   ]
  },
  {
   "cell_type": "code",
   "execution_count": 18,
   "id": "bad9042c",
   "metadata": {
    "execution": {
     "iopub.execute_input": "2021-11-29T21:15:52.635314Z",
     "iopub.status.busy": "2021-11-29T21:15:52.633326Z",
     "iopub.status.idle": "2021-11-29T21:15:52.660542Z",
     "shell.execute_reply": "2021-11-29T21:15:52.658812Z"
    },
    "papermill": {
     "duration": 0.21033,
     "end_time": "2021-11-29T21:15:52.660695",
     "exception": false,
     "start_time": "2021-11-29T21:15:52.450365",
     "status": "completed"
    },
    "tags": []
   },
   "outputs": [
    {
     "data": {
      "text/html": [
       "<table class=\"dataframe\">\n",
       "<caption>A grouped_df: 5 × 3</caption>\n",
       "<thead>\n",
       "\t<tr><th scope=col>wday</th><th scope=col>time</th><th scope=col>max_intensity</th></tr>\n",
       "\t<tr><th scope=col>&lt;dbl&gt;</th><th scope=col>&lt;chr&gt;</th><th scope=col>&lt;dbl&gt;</th></tr>\n",
       "</thead>\n",
       "<tbody>\n",
       "\t<tr><td>7</td><td>13:00:00</td><td>29.35537</td></tr>\n",
       "\t<tr><td>4</td><td>17:00:00</td><td>26.14286</td></tr>\n",
       "\t<tr><td>4</td><td>18:00:00</td><td>25.23129</td></tr>\n",
       "\t<tr><td>7</td><td>12:00:00</td><td>24.22314</td></tr>\n",
       "\t<tr><td>2</td><td>18:00:00</td><td>23.82203</td></tr>\n",
       "</tbody>\n",
       "</table>\n"
      ],
      "text/latex": [
       "A grouped\\_df: 5 × 3\n",
       "\\begin{tabular}{lll}\n",
       " wday & time & max\\_intensity\\\\\n",
       " <dbl> & <chr> & <dbl>\\\\\n",
       "\\hline\n",
       "\t 7 & 13:00:00 & 29.35537\\\\\n",
       "\t 4 & 17:00:00 & 26.14286\\\\\n",
       "\t 4 & 18:00:00 & 25.23129\\\\\n",
       "\t 7 & 12:00:00 & 24.22314\\\\\n",
       "\t 2 & 18:00:00 & 23.82203\\\\\n",
       "\\end{tabular}\n"
      ],
      "text/markdown": [
       "\n",
       "A grouped_df: 5 × 3\n",
       "\n",
       "| wday &lt;dbl&gt; | time &lt;chr&gt; | max_intensity &lt;dbl&gt; |\n",
       "|---|---|---|\n",
       "| 7 | 13:00:00 | 29.35537 |\n",
       "| 4 | 17:00:00 | 26.14286 |\n",
       "| 4 | 18:00:00 | 25.23129 |\n",
       "| 7 | 12:00:00 | 24.22314 |\n",
       "| 2 | 18:00:00 | 23.82203 |\n",
       "\n"
      ],
      "text/plain": [
       "  wday time     max_intensity\n",
       "1 7    13:00:00 29.35537     \n",
       "2 4    17:00:00 26.14286     \n",
       "3 4    18:00:00 25.23129     \n",
       "4 7    12:00:00 24.22314     \n",
       "5 2    18:00:00 23.82203     "
      ]
     },
     "metadata": {},
     "output_type": "display_data"
    }
   ],
   "source": [
    "head(intensity_peaks,5)"
   ]
  },
  {
   "cell_type": "code",
   "execution_count": 19,
   "id": "c10eec69",
   "metadata": {
    "execution": {
     "iopub.execute_input": "2021-11-29T21:15:53.030764Z",
     "iopub.status.busy": "2021-11-29T21:15:53.029868Z",
     "iopub.status.idle": "2021-11-29T21:15:54.010457Z",
     "shell.execute_reply": "2021-11-29T21:15:54.009821Z"
    },
    "papermill": {
     "duration": 1.169479,
     "end_time": "2021-11-29T21:15:54.010630",
     "exception": false,
     "start_time": "2021-11-29T21:15:52.841151",
     "status": "completed"
    },
    "tags": []
   },
   "outputs": [
    {
     "data": {
      "image/png": "[encoded data removed]"
     },
     "metadata": {
      "image/png": {
       "height": 420,
       "width": 420
      }
     },
     "output_type": "display_data"
    }
   ],
   "source": [
    "p_wday_h_steps_intensity"
   ]
  },
  {
   "cell_type": "markdown",
   "id": "24b46a8f",
   "metadata": {
    "papermill": {
     "duration": 0.187967,
     "end_time": "2021-11-29T21:15:54.382172",
     "exception": false,
     "start_time": "2021-11-29T21:15:54.194205",
     "status": "completed"
    },
    "tags": []
   },
   "source": [
    "As you can see in the table and chart above, Thursday evening and Sunday early afternoon are both high intensity high step times in the week.  "
   ]
  },
  {
   "cell_type": "markdown",
   "id": "386a969c",
   "metadata": {
    "papermill": {
     "duration": 0.184277,
     "end_time": "2021-11-29T21:15:54.761050",
     "exception": false,
     "start_time": "2021-11-29T21:15:54.576773",
     "status": "completed"
    },
    "tags": []
   },
   "source": [
    "# Identify High & Low Use Times\n",
    "\n",
    "I want to see if the participants kept their wearbale technology on their person 24 hours per day, and if not, when did they put them on and take them off. I'll try to uncover some insights by analysing the hear rate data. \n",
    "\n",
    "I'll start the wearability analysis by summarising the heart rate table."
   ]
  },
  {
   "cell_type": "code",
   "execution_count": 20,
   "id": "72783d63",
   "metadata": {
    "execution": {
     "iopub.execute_input": "2021-11-29T21:15:55.136208Z",
     "iopub.status.busy": "2021-11-29T21:15:55.134627Z",
     "iopub.status.idle": "2021-11-29T21:15:55.525796Z",
     "shell.execute_reply": "2021-11-29T21:15:55.524003Z"
    },
    "papermill": {
     "duration": 0.581751,
     "end_time": "2021-11-29T21:15:55.525955",
     "exception": false,
     "start_time": "2021-11-29T21:15:54.944204",
     "status": "completed"
    },
    "tags": []
   },
   "outputs": [
    {
     "data": {
      "text/plain": [
       "      id                 date                          rate       \n",
       " Length:2483658     Min.   :2016-04-12 00:00:00   Min.   : 36.00  \n",
       " Class :character   1st Qu.:2016-04-19 06:18:10   1st Qu.: 63.00  \n",
       " Mode  :character   Median :2016-04-26 20:28:50   Median : 73.00  \n",
       "                    Mean   :2016-04-26 19:43:52   Mean   : 77.33  \n",
       "                    3rd Qu.:2016-05-04 08:00:20   3rd Qu.: 88.00  \n",
       "                    Max.   :2016-05-12 16:20:00   Max.   :203.00  "
      ]
     },
     "metadata": {},
     "output_type": "display_data"
    }
   ],
   "source": [
    "summary(heart)"
   ]
  },
  {
   "cell_type": "markdown",
   "id": "084a0a4b",
   "metadata": {
    "papermill": {
     "duration": 0.18681,
     "end_time": "2021-11-29T21:15:55.899355",
     "exception": false,
     "start_time": "2021-11-29T21:15:55.712545",
     "status": "completed"
    },
    "tags": []
   },
   "source": [
    "There are no measurements of 0 in the heart rate data. If the device is removed from the user, it will not take a reading. By counting the heart rate readings at different days or hours, we can identify times when users wear or do not wear the device. "
   ]
  },
  {
   "cell_type": "markdown",
   "id": "ef98b9ca",
   "metadata": {
    "papermill": {
     "duration": 0.184926,
     "end_time": "2021-11-29T21:15:56.271299",
     "exception": false,
     "start_time": "2021-11-29T21:15:56.086373",
     "status": "completed"
    },
    "tags": []
   },
   "source": [
    "# Hourly Heart Rate Readings  \n",
    "\n",
    "I'm going count the number of readings per hour and visualize the results."
   ]
  },
  {
   "cell_type": "code",
   "execution_count": 21,
   "id": "7aab798e",
   "metadata": {
    "_kg_hide-input": true,
    "execution": {
     "iopub.execute_input": "2021-11-29T21:15:56.647386Z",
     "iopub.status.busy": "2021-11-29T21:15:56.645801Z",
     "iopub.status.idle": "2021-11-29T21:15:57.464656Z",
     "shell.execute_reply": "2021-11-29T21:15:57.463198Z"
    },
    "papermill": {
     "duration": 1.008617,
     "end_time": "2021-11-29T21:15:57.464852",
     "exception": false,
     "start_time": "2021-11-29T21:15:56.456235",
     "status": "completed"
    },
    "tags": []
   },
   "outputs": [],
   "source": [
    "# counting hourly heart rate readings \n",
    "hourly_count_1 <- heart %>%\n",
    "    group_by(id) %>%\n",
    "    mutate(hour = hour(date))\n",
    "hourly_count <- count(hourly_count_1,hour)%>%\n",
    "    arrange(id,hour)\n",
    "\n",
    "# summarising hourly totals \n",
    "total_hourly_count <- hourly_count %>%\n",
    "    group_by(hour) %>%\n",
    "    summarise(\n",
    "    total = sum(n),\n",
    "    )\n",
    "\n",
    "# plotting the heart rate readings \n",
    "hourly_heart_rate_readings <- ggplot(hourly_count,aes(x=hour, y=id, size=n, alpha=n)) +\n",
    "    geom_point() +\n",
    "    theme_classic()\n",
    "\n",
    "# sorting the results \n",
    "highest_hour_reading_count <-\n",
    "    head(arrange(total_hourly_count, -total),5)\n",
    "\n",
    "lowest_hour_reading_count <- \n",
    "    head(arrange(total_hourly_count,total),5)\n",
    "\n",
    "# plotting the results\n",
    "p_hourly_heart_rate_readings <- ggplot(total_hourly_count,(aes(x=hour,y=total))) +\n",
    "    geom_col(fill=\"deepskyblue3\") "
   ]
  },
  {
   "cell_type": "code",
   "execution_count": 22,
   "id": "ad899b7f",
   "metadata": {
    "execution": {
     "iopub.execute_input": "2021-11-29T21:15:57.843373Z",
     "iopub.status.busy": "2021-11-29T21:15:57.841661Z",
     "iopub.status.idle": "2021-11-29T21:15:57.863374Z",
     "shell.execute_reply": "2021-11-29T21:15:57.861873Z"
    },
    "papermill": {
     "duration": 0.212926,
     "end_time": "2021-11-29T21:15:57.863514",
     "exception": false,
     "start_time": "2021-11-29T21:15:57.650588",
     "status": "completed"
    },
    "tags": []
   },
   "outputs": [
    {
     "data": {
      "text/html": [
       "<table class=\"dataframe\">\n",
       "<caption>A tibble: 5 × 2</caption>\n",
       "<thead>\n",
       "\t<tr><th scope=col>hour</th><th scope=col>total</th></tr>\n",
       "\t<tr><th scope=col>&lt;int&gt;</th><th scope=col>&lt;int&gt;</th></tr>\n",
       "</thead>\n",
       "<tbody>\n",
       "\t<tr><td>12</td><td>137686</td></tr>\n",
       "\t<tr><td>16</td><td>135530</td></tr>\n",
       "\t<tr><td>18</td><td>134100</td></tr>\n",
       "\t<tr><td>17</td><td>132714</td></tr>\n",
       "\t<tr><td>14</td><td>131598</td></tr>\n",
       "</tbody>\n",
       "</table>\n"
      ],
      "text/latex": [
       "A tibble: 5 × 2\n",
       "\\begin{tabular}{ll}\n",
       " hour & total\\\\\n",
       " <int> & <int>\\\\\n",
       "\\hline\n",
       "\t 12 & 137686\\\\\n",
       "\t 16 & 135530\\\\\n",
       "\t 18 & 134100\\\\\n",
       "\t 17 & 132714\\\\\n",
       "\t 14 & 131598\\\\\n",
       "\\end{tabular}\n"
      ],
      "text/markdown": [
       "\n",
       "A tibble: 5 × 2\n",
       "\n",
       "| hour &lt;int&gt; | total &lt;int&gt; |\n",
       "|---|---|\n",
       "| 12 | 137686 |\n",
       "| 16 | 135530 |\n",
       "| 18 | 134100 |\n",
       "| 17 | 132714 |\n",
       "| 14 | 131598 |\n",
       "\n"
      ],
      "text/plain": [
       "  hour total \n",
       "1 12   137686\n",
       "2 16   135530\n",
       "3 18   134100\n",
       "4 17   132714\n",
       "5 14   131598"
      ]
     },
     "metadata": {},
     "output_type": "display_data"
    }
   ],
   "source": [
    "highest_hour_reading_count"
   ]
  },
  {
   "cell_type": "code",
   "execution_count": 23,
   "id": "f37abb4e",
   "metadata": {
    "execution": {
     "iopub.execute_input": "2021-11-29T21:15:58.249023Z",
     "iopub.status.busy": "2021-11-29T21:15:58.247475Z",
     "iopub.status.idle": "2021-11-29T21:15:58.269078Z",
     "shell.execute_reply": "2021-11-29T21:15:58.267461Z"
    },
    "papermill": {
     "duration": 0.2149,
     "end_time": "2021-11-29T21:15:58.269240",
     "exception": false,
     "start_time": "2021-11-29T21:15:58.054340",
     "status": "completed"
    },
    "tags": []
   },
   "outputs": [
    {
     "data": {
      "text/html": [
       "<table class=\"dataframe\">\n",
       "<caption>A tibble: 5 × 2</caption>\n",
       "<thead>\n",
       "\t<tr><th scope=col>hour</th><th scope=col>total</th></tr>\n",
       "\t<tr><th scope=col>&lt;int&gt;</th><th scope=col>&lt;int&gt;</th></tr>\n",
       "</thead>\n",
       "<tbody>\n",
       "\t<tr><td>4</td><td>62029</td></tr>\n",
       "\t<tr><td>2</td><td>63754</td></tr>\n",
       "\t<tr><td>3</td><td>63922</td></tr>\n",
       "\t<tr><td>5</td><td>64497</td></tr>\n",
       "\t<tr><td>1</td><td>66444</td></tr>\n",
       "</tbody>\n",
       "</table>\n"
      ],
      "text/latex": [
       "A tibble: 5 × 2\n",
       "\\begin{tabular}{ll}\n",
       " hour & total\\\\\n",
       " <int> & <int>\\\\\n",
       "\\hline\n",
       "\t 4 & 62029\\\\\n",
       "\t 2 & 63754\\\\\n",
       "\t 3 & 63922\\\\\n",
       "\t 5 & 64497\\\\\n",
       "\t 1 & 66444\\\\\n",
       "\\end{tabular}\n"
      ],
      "text/markdown": [
       "\n",
       "A tibble: 5 × 2\n",
       "\n",
       "| hour &lt;int&gt; | total &lt;int&gt; |\n",
       "|---|---|\n",
       "| 4 | 62029 |\n",
       "| 2 | 63754 |\n",
       "| 3 | 63922 |\n",
       "| 5 | 64497 |\n",
       "| 1 | 66444 |\n",
       "\n"
      ],
      "text/plain": [
       "  hour total\n",
       "1 4    62029\n",
       "2 2    63754\n",
       "3 3    63922\n",
       "4 5    64497\n",
       "5 1    66444"
      ]
     },
     "metadata": {},
     "output_type": "display_data"
    }
   ],
   "source": [
    "lowest_hour_reading_count"
   ]
  },
  {
   "cell_type": "code",
   "execution_count": 24,
   "id": "e92c448c",
   "metadata": {
    "execution": {
     "iopub.execute_input": "2021-11-29T21:15:58.658459Z",
     "iopub.status.busy": "2021-11-29T21:15:58.656290Z",
     "iopub.status.idle": "2021-11-29T21:15:58.854147Z",
     "shell.execute_reply": "2021-11-29T21:15:58.852488Z"
    },
    "papermill": {
     "duration": 0.393768,
     "end_time": "2021-11-29T21:15:58.854291",
     "exception": false,
     "start_time": "2021-11-29T21:15:58.460523",
     "status": "completed"
    },
    "tags": []
   },
   "outputs": [
    {
     "data": {
      "image/png": "[encoded data removed]"
     },
     "metadata": {
      "image/png": {
       "height": 420,
       "width": 420
      }
     },
     "output_type": "display_data"
    }
   ],
   "source": [
    "p_hourly_heart_rate_readings"
   ]
  },
  {
   "cell_type": "markdown",
   "id": "ed52854b",
   "metadata": {
    "papermill": {
     "duration": 0.194263,
     "end_time": "2021-11-29T21:15:59.243634",
     "exception": false,
     "start_time": "2021-11-29T21:15:59.049371",
     "status": "completed"
    },
    "tags": []
   },
   "source": [
    "In the plot above, you can see the count of readings in each hour. The columns hight represents the number of readings in each hour in the day. You can see that the hours with the lowest readings are in the early morning and the hours with the highest number of readings is in the afternoon and early evening. "
   ]
  },
  {
   "cell_type": "markdown",
   "id": "d92f264c",
   "metadata": {
    "papermill": {
     "duration": 0.192998,
     "end_time": "2021-11-29T21:15:59.631496",
     "exception": false,
     "start_time": "2021-11-29T21:15:59.438498",
     "status": "completed"
    },
    "tags": []
   },
   "source": [
    "# Daily Heart Rate Readings \n",
    "\n",
    "I'll perform the same analysis on days of the week. Again, I'll count the heart rate readings by day of week. Then, visualise the data in a column chart. "
   ]
  },
  {
   "cell_type": "code",
   "execution_count": 25,
   "id": "a405b387",
   "metadata": {
    "_kg_hide-input": true,
    "execution": {
     "iopub.execute_input": "2021-11-29T21:16:00.025929Z",
     "iopub.status.busy": "2021-11-29T21:16:00.023773Z",
     "iopub.status.idle": "2021-11-29T21:16:00.615934Z",
     "shell.execute_reply": "2021-11-29T21:16:00.614281Z"
    },
    "papermill": {
     "duration": 0.790478,
     "end_time": "2021-11-29T21:16:00.616089",
     "exception": false,
     "start_time": "2021-11-29T21:15:59.825611",
     "status": "completed"
    },
    "tags": []
   },
   "outputs": [],
   "source": [
    "wday_count_1 <- heart %>%\n",
    "    group_by(id) %>%\n",
    "    mutate(wday = wday(date))\n",
    "wday_count <- count(wday_count_1,wday)%>%\n",
    "    arrange(id,wday)\n",
    "\n",
    "daily_heart_rate_readings <- ggplot(wday_count,aes(x=wday,y=id, size=n,alpha=n)) +\n",
    "    geom_point() +\n",
    "    theme_classic()\n",
    "\n",
    "# summarising daily totals \n",
    "total_daily_count <- wday_count %>%\n",
    "    group_by(wday) %>%\n",
    "    summarise(\n",
    "    total = sum(n)\n",
    "    )\n",
    "\n",
    "# plotting the heart rate readings \n",
    "wday_heart_rate_readings <- ggplot(total_daily_count,aes(x=wday, y=total)) +\n",
    "    geom_col(fill=\"deepskyblue3\") +\n",
    "    theme_classic()\n",
    "\n",
    "#sorting results \n",
    "highest_wday_reading_count <-\n",
    "    head(arrange(total_daily_count,-total),5)\n",
    "\n",
    "lowest_wday_reading_count <- \n",
    "    head(arrange(total_daily_count,total),5)\n"
   ]
  },
  {
   "cell_type": "code",
   "execution_count": 26,
   "id": "7d463692",
   "metadata": {
    "execution": {
     "iopub.execute_input": "2021-11-29T21:16:01.045531Z",
     "iopub.status.busy": "2021-11-29T21:16:01.044883Z",
     "iopub.status.idle": "2021-11-29T21:16:01.064165Z",
     "shell.execute_reply": "2021-11-29T21:16:01.062613Z"
    },
    "papermill": {
     "duration": 0.221981,
     "end_time": "2021-11-29T21:16:01.064304",
     "exception": false,
     "start_time": "2021-11-29T21:16:00.842323",
     "status": "completed"
    },
    "tags": []
   },
   "outputs": [
    {
     "data": {
      "text/html": [
       "<table class=\"dataframe\">\n",
       "<caption>A tibble: 5 × 2</caption>\n",
       "<thead>\n",
       "\t<tr><th scope=col>wday</th><th scope=col>total</th></tr>\n",
       "\t<tr><th scope=col>&lt;dbl&gt;</th><th scope=col>&lt;int&gt;</th></tr>\n",
       "</thead>\n",
       "<tbody>\n",
       "\t<tr><td>3</td><td>452381</td></tr>\n",
       "\t<tr><td>4</td><td>399232</td></tr>\n",
       "\t<tr><td>5</td><td>359146</td></tr>\n",
       "\t<tr><td>6</td><td>357594</td></tr>\n",
       "\t<tr><td>7</td><td>338394</td></tr>\n",
       "</tbody>\n",
       "</table>\n"
      ],
      "text/latex": [
       "A tibble: 5 × 2\n",
       "\\begin{tabular}{ll}\n",
       " wday & total\\\\\n",
       " <dbl> & <int>\\\\\n",
       "\\hline\n",
       "\t 3 & 452381\\\\\n",
       "\t 4 & 399232\\\\\n",
       "\t 5 & 359146\\\\\n",
       "\t 6 & 357594\\\\\n",
       "\t 7 & 338394\\\\\n",
       "\\end{tabular}\n"
      ],
      "text/markdown": [
       "\n",
       "A tibble: 5 × 2\n",
       "\n",
       "| wday &lt;dbl&gt; | total &lt;int&gt; |\n",
       "|---|---|\n",
       "| 3 | 452381 |\n",
       "| 4 | 399232 |\n",
       "| 5 | 359146 |\n",
       "| 6 | 357594 |\n",
       "| 7 | 338394 |\n",
       "\n"
      ],
      "text/plain": [
       "  wday total \n",
       "1 3    452381\n",
       "2 4    399232\n",
       "3 5    359146\n",
       "4 6    357594\n",
       "5 7    338394"
      ]
     },
     "metadata": {},
     "output_type": "display_data"
    }
   ],
   "source": [
    "highest_wday_reading_count"
   ]
  },
  {
   "cell_type": "code",
   "execution_count": 27,
   "id": "b67544ad",
   "metadata": {
    "execution": {
     "iopub.execute_input": "2021-11-29T21:16:01.462656Z",
     "iopub.status.busy": "2021-11-29T21:16:01.460890Z",
     "iopub.status.idle": "2021-11-29T21:16:01.482404Z",
     "shell.execute_reply": "2021-11-29T21:16:01.480899Z"
    },
    "papermill": {
     "duration": 0.221926,
     "end_time": "2021-11-29T21:16:01.482539",
     "exception": false,
     "start_time": "2021-11-29T21:16:01.260613",
     "status": "completed"
    },
    "tags": []
   },
   "outputs": [
    {
     "data": {
      "text/html": [
       "<table class=\"dataframe\">\n",
       "<caption>A tibble: 5 × 2</caption>\n",
       "<thead>\n",
       "\t<tr><th scope=col>wday</th><th scope=col>total</th></tr>\n",
       "\t<tr><th scope=col>&lt;dbl&gt;</th><th scope=col>&lt;int&gt;</th></tr>\n",
       "</thead>\n",
       "<tbody>\n",
       "\t<tr><td>1</td><td>287147</td></tr>\n",
       "\t<tr><td>2</td><td>289764</td></tr>\n",
       "\t<tr><td>7</td><td>338394</td></tr>\n",
       "\t<tr><td>6</td><td>357594</td></tr>\n",
       "\t<tr><td>5</td><td>359146</td></tr>\n",
       "</tbody>\n",
       "</table>\n"
      ],
      "text/latex": [
       "A tibble: 5 × 2\n",
       "\\begin{tabular}{ll}\n",
       " wday & total\\\\\n",
       " <dbl> & <int>\\\\\n",
       "\\hline\n",
       "\t 1 & 287147\\\\\n",
       "\t 2 & 289764\\\\\n",
       "\t 7 & 338394\\\\\n",
       "\t 6 & 357594\\\\\n",
       "\t 5 & 359146\\\\\n",
       "\\end{tabular}\n"
      ],
      "text/markdown": [
       "\n",
       "A tibble: 5 × 2\n",
       "\n",
       "| wday &lt;dbl&gt; | total &lt;int&gt; |\n",
       "|---|---|\n",
       "| 1 | 287147 |\n",
       "| 2 | 289764 |\n",
       "| 7 | 338394 |\n",
       "| 6 | 357594 |\n",
       "| 5 | 359146 |\n",
       "\n"
      ],
      "text/plain": [
       "  wday total \n",
       "1 1    287147\n",
       "2 2    289764\n",
       "3 7    338394\n",
       "4 6    357594\n",
       "5 5    359146"
      ]
     },
     "metadata": {},
     "output_type": "display_data"
    }
   ],
   "source": [
    "lowest_wday_reading_count"
   ]
  },
  {
   "cell_type": "code",
   "execution_count": 28,
   "id": "a521ff40",
   "metadata": {
    "execution": {
     "iopub.execute_input": "2021-11-29T21:16:01.889957Z",
     "iopub.status.busy": "2021-11-29T21:16:01.888249Z",
     "iopub.status.idle": "2021-11-29T21:16:02.072076Z",
     "shell.execute_reply": "2021-11-29T21:16:02.071104Z"
    },
    "papermill": {
     "duration": 0.390331,
     "end_time": "2021-11-29T21:16:02.072213",
     "exception": false,
     "start_time": "2021-11-29T21:16:01.681882",
     "status": "completed"
    },
    "tags": []
   },
   "outputs": [
    {
     "data": {
      "image/png": "[encoded data removed]"
     },
     "metadata": {
      "image/png": {
       "height": 420,
       "width": 420
      }
     },
     "output_type": "display_data"
    }
   ],
   "source": [
    "wday_heart_rate_readings"
   ]
  },
  {
   "cell_type": "markdown",
   "id": "979144c5",
   "metadata": {
    "papermill": {
     "duration": 0.201917,
     "end_time": "2021-11-29T21:16:02.477489",
     "exception": false,
     "start_time": "2021-11-29T21:16:02.275572",
     "status": "completed"
    },
    "tags": []
   },
   "source": [
    "In this chart, the x axis is days of the week, 1 is Monday, 2 is Tuesday etc. As you can see, there is a spike on Wednesday. Let's explore hours of the week to get a closer look.  "
   ]
  },
  {
   "cell_type": "markdown",
   "id": "f94d03c4",
   "metadata": {
    "papermill": {
     "duration": 0.202592,
     "end_time": "2021-11-29T21:16:02.883406",
     "exception": false,
     "start_time": "2021-11-29T21:16:02.680814",
     "status": "completed"
    },
    "tags": []
   },
   "source": [
    "# Hour of Week Heart Rate Readings \n",
    "\n",
    "To do this, I'll seperate the date to day of week and hour. Then count the readings by id in each hour of the week."
   ]
  },
  {
   "cell_type": "code",
   "execution_count": 29,
   "id": "5601fee8",
   "metadata": {
    "_kg_hide-input": true,
    "execution": {
     "iopub.execute_input": "2021-11-29T21:16:03.293415Z",
     "iopub.status.busy": "2021-11-29T21:16:03.291718Z",
     "iopub.status.idle": "2021-11-29T21:17:19.134433Z",
     "shell.execute_reply": "2021-11-29T21:17:19.134952Z"
    },
    "papermill": {
     "duration": 76.048239,
     "end_time": "2021-11-29T21:17:19.135131",
     "exception": false,
     "start_time": "2021-11-29T21:16:03.086892",
     "status": "completed"
    },
    "tags": []
   },
   "outputs": [
    {
     "name": "stderr",
     "output_type": "stream",
     "text": [
      "`summarise()` has grouped output by 'wday'. You can override using the `.groups` argument.\n",
      "\n"
     ]
    }
   ],
   "source": [
    "# seperate date and time \n",
    "wday_h_heart_1 <- heart %>%\n",
    "    separate(date, c(\"date\", \"time\"), sep=\" \")\n",
    "# mutate date to day of the week and time to hours \n",
    "wday_h_heart_2 <- wday_h_heart_1%>% \n",
    "    group_by(id) %>%\n",
    "    mutate(wday = wday(date)) %>%\n",
    "    mutate(hour = hms(time)) %>%\n",
    "    mutate(h = hour(hour)) \n",
    "\n",
    "# count instances in each hour of week \n",
    "wday_h_heart_3 <- count(wday_h_heart_2,wday,h) \n",
    "\n",
    "# summarize the count by day and hour without id\n",
    "wday_h_total_count <- wday_h_heart_3 %>%\n",
    "    group_by(wday,h) %>%\n",
    "    summarise(\n",
    "        total=sum(n)\n",
    "        )\n",
    "\n",
    "# sort by highest and lowest \n",
    "wday_h_highest_count <- head(arrange(wday_h_total_count, -total),10)\n",
    "wday_h_lowest_count <- head(arrange(wday_h_total_count, total),10)\n",
    "\n"
   ]
  },
  {
   "cell_type": "code",
   "execution_count": 30,
   "id": "6ab52379",
   "metadata": {
    "execution": {
     "iopub.execute_input": "2021-11-29T21:17:19.545559Z",
     "iopub.status.busy": "2021-11-29T21:17:19.543993Z",
     "iopub.status.idle": "2021-11-29T21:17:19.568087Z",
     "shell.execute_reply": "2021-11-29T21:17:19.566591Z"
    },
    "papermill": {
     "duration": 0.230983,
     "end_time": "2021-11-29T21:17:19.568226",
     "exception": false,
     "start_time": "2021-11-29T21:17:19.337243",
     "status": "completed"
    },
    "tags": []
   },
   "outputs": [
    {
     "data": {
      "text/html": [
       "<table class=\"dataframe\">\n",
       "<caption>A grouped_df: 10 × 3</caption>\n",
       "<thead>\n",
       "\t<tr><th scope=col>wday</th><th scope=col>h</th><th scope=col>total</th></tr>\n",
       "\t<tr><th scope=col>&lt;dbl&gt;</th><th scope=col>&lt;dbl&gt;</th><th scope=col>&lt;int&gt;</th></tr>\n",
       "</thead>\n",
       "<tbody>\n",
       "\t<tr><td>3</td><td>12</td><td>26457</td></tr>\n",
       "\t<tr><td>3</td><td>16</td><td>26021</td></tr>\n",
       "\t<tr><td>3</td><td>15</td><td>24229</td></tr>\n",
       "\t<tr><td>3</td><td>17</td><td>23872</td></tr>\n",
       "\t<tr><td>3</td><td>11</td><td>23605</td></tr>\n",
       "\t<tr><td>3</td><td>10</td><td>23356</td></tr>\n",
       "\t<tr><td>4</td><td>18</td><td>22898</td></tr>\n",
       "\t<tr><td>4</td><td>17</td><td>22722</td></tr>\n",
       "\t<tr><td>3</td><td>14</td><td>22718</td></tr>\n",
       "\t<tr><td>3</td><td> 9</td><td>22601</td></tr>\n",
       "</tbody>\n",
       "</table>\n"
      ],
      "text/latex": [
       "A grouped\\_df: 10 × 3\n",
       "\\begin{tabular}{lll}\n",
       " wday & h & total\\\\\n",
       " <dbl> & <dbl> & <int>\\\\\n",
       "\\hline\n",
       "\t 3 & 12 & 26457\\\\\n",
       "\t 3 & 16 & 26021\\\\\n",
       "\t 3 & 15 & 24229\\\\\n",
       "\t 3 & 17 & 23872\\\\\n",
       "\t 3 & 11 & 23605\\\\\n",
       "\t 3 & 10 & 23356\\\\\n",
       "\t 4 & 18 & 22898\\\\\n",
       "\t 4 & 17 & 22722\\\\\n",
       "\t 3 & 14 & 22718\\\\\n",
       "\t 3 &  9 & 22601\\\\\n",
       "\\end{tabular}\n"
      ],
      "text/markdown": [
       "\n",
       "A grouped_df: 10 × 3\n",
       "\n",
       "| wday &lt;dbl&gt; | h &lt;dbl&gt; | total &lt;int&gt; |\n",
       "|---|---|---|\n",
       "| 3 | 12 | 26457 |\n",
       "| 3 | 16 | 26021 |\n",
       "| 3 | 15 | 24229 |\n",
       "| 3 | 17 | 23872 |\n",
       "| 3 | 11 | 23605 |\n",
       "| 3 | 10 | 23356 |\n",
       "| 4 | 18 | 22898 |\n",
       "| 4 | 17 | 22722 |\n",
       "| 3 | 14 | 22718 |\n",
       "| 3 |  9 | 22601 |\n",
       "\n"
      ],
      "text/plain": [
       "   wday h  total\n",
       "1  3    12 26457\n",
       "2  3    16 26021\n",
       "3  3    15 24229\n",
       "4  3    17 23872\n",
       "5  3    11 23605\n",
       "6  3    10 23356\n",
       "7  4    18 22898\n",
       "8  4    17 22722\n",
       "9  3    14 22718\n",
       "10 3     9 22601"
      ]
     },
     "metadata": {},
     "output_type": "display_data"
    }
   ],
   "source": [
    "wday_h_highest_count"
   ]
  },
  {
   "cell_type": "code",
   "execution_count": 31,
   "id": "27d396ce",
   "metadata": {
    "execution": {
     "iopub.execute_input": "2021-11-29T21:17:19.984243Z",
     "iopub.status.busy": "2021-11-29T21:17:19.982755Z",
     "iopub.status.idle": "2021-11-29T21:17:20.005771Z",
     "shell.execute_reply": "2021-11-29T21:17:20.004198Z"
    },
    "papermill": {
     "duration": 0.233084,
     "end_time": "2021-11-29T21:17:20.005940",
     "exception": false,
     "start_time": "2021-11-29T21:17:19.772856",
     "status": "completed"
    },
    "tags": []
   },
   "outputs": [
    {
     "data": {
      "text/html": [
       "<table class=\"dataframe\">\n",
       "<caption>A grouped_df: 10 × 3</caption>\n",
       "<thead>\n",
       "\t<tr><th scope=col>wday</th><th scope=col>h</th><th scope=col>total</th></tr>\n",
       "\t<tr><th scope=col>&lt;dbl&gt;</th><th scope=col>&lt;dbl&gt;</th><th scope=col>&lt;int&gt;</th></tr>\n",
       "</thead>\n",
       "<tbody>\n",
       "\t<tr><td>2</td><td> 2</td><td>5184</td></tr>\n",
       "\t<tr><td>2</td><td> 3</td><td>5230</td></tr>\n",
       "\t<tr><td>2</td><td> 1</td><td>5446</td></tr>\n",
       "\t<tr><td>2</td><td> 0</td><td>5529</td></tr>\n",
       "\t<tr><td>2</td><td> 4</td><td>5543</td></tr>\n",
       "\t<tr><td>1</td><td>23</td><td>6058</td></tr>\n",
       "\t<tr><td>2</td><td> 5</td><td>6478</td></tr>\n",
       "\t<tr><td>7</td><td> 5</td><td>7505</td></tr>\n",
       "\t<tr><td>7</td><td> 4</td><td>7637</td></tr>\n",
       "\t<tr><td>1</td><td>22</td><td>7660</td></tr>\n",
       "</tbody>\n",
       "</table>\n"
      ],
      "text/latex": [
       "A grouped\\_df: 10 × 3\n",
       "\\begin{tabular}{lll}\n",
       " wday & h & total\\\\\n",
       " <dbl> & <dbl> & <int>\\\\\n",
       "\\hline\n",
       "\t 2 &  2 & 5184\\\\\n",
       "\t 2 &  3 & 5230\\\\\n",
       "\t 2 &  1 & 5446\\\\\n",
       "\t 2 &  0 & 5529\\\\\n",
       "\t 2 &  4 & 5543\\\\\n",
       "\t 1 & 23 & 6058\\\\\n",
       "\t 2 &  5 & 6478\\\\\n",
       "\t 7 &  5 & 7505\\\\\n",
       "\t 7 &  4 & 7637\\\\\n",
       "\t 1 & 22 & 7660\\\\\n",
       "\\end{tabular}\n"
      ],
      "text/markdown": [
       "\n",
       "A grouped_df: 10 × 3\n",
       "\n",
       "| wday &lt;dbl&gt; | h &lt;dbl&gt; | total &lt;int&gt; |\n",
       "|---|---|---|\n",
       "| 2 |  2 | 5184 |\n",
       "| 2 |  3 | 5230 |\n",
       "| 2 |  1 | 5446 |\n",
       "| 2 |  0 | 5529 |\n",
       "| 2 |  4 | 5543 |\n",
       "| 1 | 23 | 6058 |\n",
       "| 2 |  5 | 6478 |\n",
       "| 7 |  5 | 7505 |\n",
       "| 7 |  4 | 7637 |\n",
       "| 1 | 22 | 7660 |\n",
       "\n"
      ],
      "text/plain": [
       "   wday h  total\n",
       "1  2     2 5184 \n",
       "2  2     3 5230 \n",
       "3  2     1 5446 \n",
       "4  2     0 5529 \n",
       "5  2     4 5543 \n",
       "6  1    23 6058 \n",
       "7  2     5 6478 \n",
       "8  7     5 7505 \n",
       "9  7     4 7637 \n",
       "10 1    22 7660 "
      ]
     },
     "metadata": {},
     "output_type": "display_data"
    }
   ],
   "source": [
    "wday_h_lowest_count"
   ]
  },
  {
   "cell_type": "code",
   "execution_count": 32,
   "id": "b5fc52fb",
   "metadata": {
    "_kg_hide-input": true,
    "execution": {
     "iopub.execute_input": "2021-11-29T21:17:20.430244Z",
     "iopub.status.busy": "2021-11-29T21:17:20.428805Z",
     "iopub.status.idle": "2021-11-29T21:17:20.448297Z",
     "shell.execute_reply": "2021-11-29T21:17:20.447106Z"
    },
    "jupyter": {
     "source_hidden": true
    },
    "papermill": {
     "duration": 0.233785,
     "end_time": "2021-11-29T21:17:20.448434",
     "exception": false,
     "start_time": "2021-11-29T21:17:20.214649",
     "status": "completed"
    },
    "tags": []
   },
   "outputs": [],
   "source": [
    "# plot results \n",
    "p_wday_h_total_counts <- \n",
    "    ggplot(wday_h_total_count, aes(x=h, y=total)) + \n",
    "        geom_col(fill=\"deepskyblue3\") +\n",
    "        facet_wrap(~wday) +\n",
    "\n",
    "    theme_classic() +\n",
    "\n",
    "    labs(\n",
    "        title=\"Wearbability by Hour of Week\",\n",
    "        subtitle=\"Hourly Heart Rate Readings by Day of Week (1 = Monday etc.)\"\n",
    "        )"
   ]
  },
  {
   "cell_type": "code",
   "execution_count": 33,
   "id": "36127b4a",
   "metadata": {
    "execution": {
     "iopub.execute_input": "2021-11-29T21:17:20.868753Z",
     "iopub.status.busy": "2021-11-29T21:17:20.867205Z",
     "iopub.status.idle": "2021-11-29T21:17:21.474958Z",
     "shell.execute_reply": "2021-11-29T21:17:21.474145Z"
    },
    "papermill": {
     "duration": 0.819644,
     "end_time": "2021-11-29T21:17:21.475088",
     "exception": false,
     "start_time": "2021-11-29T21:17:20.655444",
     "status": "completed"
    },
    "tags": []
   },
   "outputs": [
    {
     "data": {
      "image/png": "[encoded data removed]"
     },
     "metadata": {
      "image/png": {
       "height": 420,
       "width": 420
      }
     },
     "output_type": "display_data"
    }
   ],
   "source": [
    "p_wday_h_total_counts"
   ]
  },
  {
   "cell_type": "markdown",
   "id": "2e422287",
   "metadata": {
    "papermill": {
     "duration": 0.210585,
     "end_time": "2021-11-29T21:17:21.894763",
     "exception": false,
     "start_time": "2021-11-29T21:17:21.684178",
     "status": "completed"
    },
    "tags": []
   },
   "source": [
    "Here you can see the peaks and valleys of hours of the week with the total number of heart rate readings. The valleys are likely times people are not wearing their device, and the peaks are times most people are wearing their device. Wednesday afternoon and Thursday afternoon stand out as high wearability times. Early mornings and evenings are low wearability times. \n",
    "\n",
    "Now I'll find the sum of readings in each hour of the week, find the hours with the highest and lowest readings in the week. Finally, I'll plot the data. "
   ]
  },
  {
   "cell_type": "code",
   "execution_count": 34,
   "id": "aaf13de4",
   "metadata": {
    "_kg_hide-input": true,
    "execution": {
     "iopub.execute_input": "2021-11-29T21:17:22.324975Z",
     "iopub.status.busy": "2021-11-29T21:17:22.323496Z",
     "iopub.status.idle": "2021-11-29T21:17:22.355230Z",
     "shell.execute_reply": "2021-11-29T21:17:22.353726Z"
    },
    "papermill": {
     "duration": 0.249975,
     "end_time": "2021-11-29T21:17:22.355455",
     "exception": false,
     "start_time": "2021-11-29T21:17:22.105480",
     "status": "completed"
    },
    "tags": []
   },
   "outputs": [],
   "source": [
    "p_wday_h_heart_readings <- ggplot(wday_h_total_count,(aes(x=h, y=wday, size=total, color=total)))+\n",
    "    geom_point() +\n",
    "    scale_y_reverse()+\n",
    "    annotate(\"text\", x = 4, y = 1.75, label = \"Tuesday, 4am\", color = \"red\")+\n",
    "    annotate(\"text\", x = 5, y = 6.75, label = \"Sunday, 5am\", color = \"red\")+\n",
    "    annotate(\"text\", x = 13, y = 2.75, label = \"Wednesday afternoon\")+\n",
    "    annotate(\"text\", x = 17, y = 3.75, label = \"Thursday, 5pm\")+\n",
    "    #facet_wrap(~id) +\n",
    "    theme_classic()+\n",
    "    labs(\n",
    "        title=\"Heart Rate Readings per Hour per Day\", \n",
    "        subtitle=\"Number of heart rate readings by hour of day of week\")"
   ]
  },
  {
   "cell_type": "code",
   "execution_count": 35,
   "id": "5ab2cde5",
   "metadata": {
    "execution": {
     "iopub.execute_input": "2021-11-29T21:17:22.807047Z",
     "iopub.status.busy": "2021-11-29T21:17:22.804957Z",
     "iopub.status.idle": "2021-11-29T21:17:23.210401Z",
     "shell.execute_reply": "2021-11-29T21:17:23.210954Z"
    },
    "papermill": {
     "duration": 0.620432,
     "end_time": "2021-11-29T21:17:23.211121",
     "exception": false,
     "start_time": "2021-11-29T21:17:22.590689",
     "status": "completed"
    },
    "tags": []
   },
   "outputs": [
    {
     "data": {
      "image/png": "[encoded data removed]"
     },
     "metadata": {
      "image/png": {
       "height": 420,
       "width": 420
      }
     },
     "output_type": "display_data"
    }
   ],
   "source": [
    "p_wday_h_heart_readings"
   ]
  },
  {
   "cell_type": "markdown",
   "id": "49ef8d58",
   "metadata": {
    "papermill": {
     "duration": 0.218951,
     "end_time": "2021-11-29T21:17:23.646522",
     "exception": false,
     "start_time": "2021-11-29T21:17:23.427571",
     "status": "completed"
    },
    "tags": []
   },
   "source": [
    "The above chart shows the number of readings in each hour of the week, small dark dots represent a low number of readings, large bright blue dots represent a high number of readings in an hour. Days of the week are listed numerically starting on Monday as the y axis. The x axis plots the hours in a day. \n",
    "\n",
    "You can see that early mornings, specifically Tuesday, Wednesday, and Sunday have the lowest number of readings. These are likely times people prefer to take their device off. \n",
    "\n",
    "Thursday evening and Sunday at noon have the highest number of readings in the week."
   ]
  },
  {
   "cell_type": "markdown",
   "id": "64ececa5",
   "metadata": {
    "papermill": {
     "duration": 0.21864,
     "end_time": "2021-11-29T21:17:24.082104",
     "exception": false,
     "start_time": "2021-11-29T21:17:23.863464",
     "status": "completed"
    },
    "tags": []
   },
   "source": [
    "# Findings & Recommendations "
   ]
  },
  {
   "cell_type": "markdown",
   "id": "c5d0394c",
   "metadata": {
    "papermill": {
     "duration": 0.216045,
     "end_time": "2021-11-29T21:17:24.515823",
     "exception": false,
     "start_time": "2021-11-29T21:17:24.299778",
     "status": "completed"
    },
    "tags": []
   },
   "source": [
    "## Spikes in Activity  \n",
    "### Thursdays and Sundays are high activity days with peaks midweek around dinner time \n",
    "\n",
    "As you will see in the following chart, there is a regular peak from Tuesday to Thursday in high intensity activity around 7pm. But the highest activity is on Sundays, specifically, Sunday at 1pm.\n",
    "\n",
    "I recommend we target our advertising to insipre fitness after work and on Sunday mornings through the afternoon. "
   ]
  },
  {
   "cell_type": "markdown",
   "id": "11e75bba",
   "metadata": {
    "papermill": {
     "duration": 0.215954,
     "end_time": "2021-11-29T21:17:24.946362",
     "exception": false,
     "start_time": "2021-11-29T21:17:24.730408",
     "status": "completed"
    },
    "tags": []
   },
   "source": [
    "## No Constant Wearability \n",
    "### Participants don't love wearing the tech 24/7 \n",
    "\n",
    "By measuring the number of heart rate readings we recorded every hour, we identified times people are most and least wearing their monitors. Wednesday afternoons, Thursday evenings, and Sudays around noon had the highest levels of heart rate recording, therefore the most popular times to wear the monitor. \n",
    "\n",
    "I recommend considering looking deeper into this finding and considering how this might affect the marketing communication regarding the product and its capabilities. For example, if users don't want to wear it to bed, monitoring sleep might not be important to them.  "
   ]
  },
  {
   "cell_type": "markdown",
   "id": "428f927c",
   "metadata": {
    "papermill": {
     "duration": 0.215852,
     "end_time": "2021-11-29T21:17:25.380169",
     "exception": false,
     "start_time": "2021-11-29T21:17:25.164317",
     "status": "completed"
    },
    "tags": []
   },
   "source": [
    "## Possible Correlation \n",
    "### People might like wearing their tech for high intensity activities \n",
    "\n",
    "Acording to the above findings, I believe there might be a strong correlation between users wearing their tech and when they perform high intensity activities. We require more analysis, but if true, users might prefer to only wear their devices to monitor specific activities, like running or working out. "
   ]
  },
  {
   "cell_type": "markdown",
   "id": "68cf05db",
   "metadata": {
    "papermill": {
     "duration": 0.214835,
     "end_time": "2021-11-29T21:17:25.810929",
     "exception": false,
     "start_time": "2021-11-29T21:17:25.596094",
     "status": "completed"
    },
    "tags": []
   },
   "source": [
    "# Thank You \n",
    "\n",
    "Thanks for reading my case study. Feedback is more than welcome. If you are a Google Data Analysis student, I hope you found some insights or inspiration in this markdown. "
   ]
  }
 ],
 "metadata": {
  "kernelspec": {
   "display_name": "R",
   "language": "R",
   "name": "ir"
  },
  "language_info": {
   "codemirror_mode": "r",
   "file_extension": ".r",
   "mimetype": "text/x-r-source",
   "name": "R",
   "pygments_lexer": "r",
   "version": "4.0.5"
  },
  "papermill": {
   "default_parameters": {},
   "duration": 125.224726,
   "end_time": "2021-11-29T21:17:26.237934",
   "environment_variables": {},
   "exception": null,
   "input_path": "__notebook__.ipynb",
   "output_path": "__notebook__.ipynb",
   "parameters": {},
   "start_time": "2021-11-29T21:15:21.013208",
   "version": "2.3.3"
  }
 },
 "nbformat": 4,
 "nbformat_minor": 5
}
